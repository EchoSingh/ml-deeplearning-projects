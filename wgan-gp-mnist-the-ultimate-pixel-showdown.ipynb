{
 "cells": [
  {
   "cell_type": "markdown",
   "id": "c206b041",
   "metadata": {
    "papermill": {
     "duration": 0.002926,
     "end_time": "2025-05-02T04:37:36.349299",
     "exception": false,
     "start_time": "2025-05-02T04:37:36.346373",
     "status": "completed"
    },
    "tags": []
   },
   "source": [
    "#  WGAN-GP MNIST Overdrive: The Ultimate Pixel Showdown\n",
    "\n",
    "Welcome to the **WGAN-GP MNIST Overdrive** notebook! In this project, I build and train a **Wasserstein GAN with Gradient Penalty (WGAN-GP)** using the MNIST dataset to generate realistic handwritten digits. Here's what this notebook covers:\n",
    "\n",
    "---\n",
    "\n",
    "## What is MNIST?\n",
    "- **MNIST Dataset:**  \n",
    "  A benchmark dataset consisting of 60,000 training images and 10,000 testing images of handwritten digits (0-9). Each image is 28x28 pixels, grayscale.\n",
    "  \n",
    "---\n",
    "\n",
    "## What is WGAN-GP?\n",
    "- **Wasserstein GAN (WGAN):**  \n",
    "  An improved version of GANs that uses the Earth Mover's (Wasserstein) distance as a loss metric instead of the standard Jensen–Shannon divergence. This leads to more stable training.\n",
    "  \n",
    "- **Gradient Penalty (GP):**  \n",
    "  A regularization term added to the WGAN loss to enforce the Lipschitz constraint, leading to better convergence and more robust training.\n",
    "\n",
    "---\n",
    "\n",
    "## Notebook Workflow:\n",
    "1. **Environment Setup & Imports:**  \n",
    "   I set up TensorFlow with mixed precision for better performance, import all necessary libraries, and configure the logging and GPU settings.\n",
    "\n",
    "2. **Visualization Utilities:**  \n",
    "   Functions are defined to display grids of images and to monitor the training progress visually through callbacks.\n",
    "\n",
    "3. **Data Loading & Preprocessing:**  \n",
    "   The MNIST dataset is loaded and normalized to the range [-1, 1] – a typical preparation step for GAN training.\n",
    "\n",
    "4. **Model Architectures:**  \n",
    "   - **Generator:** Transforms random noise vectors into 28x28 grayscale images that resemble handwritten digits.\n",
    "   - **Discriminator:** Evaluates whether an image is real (from MNIST) or generated (fake).\n",
    "\n",
    "5. **WGAN-GP Training Loop:**  \n",
    "   A custom training loop is implemented:\n",
    "   - The **discriminator** is updated multiple times per iteration with a gradient penalty to enforce stable learning.\n",
    "   - The **generator** is updated to maximize the discriminator's error.\n",
    "   \n",
    "6. **Results & Final Outputs:**  \n",
    "   After training, we plot the discriminator and generator loss curves and display final generated samples.\n"
   ]
  },
  {
   "cell_type": "code",
   "execution_count": 1,
   "id": "2d24801d",
   "metadata": {
    "execution": {
     "iopub.execute_input": "2025-05-02T04:37:36.354960Z",
     "iopub.status.busy": "2025-05-02T04:37:36.354686Z",
     "iopub.status.idle": "2025-05-02T04:37:51.672442Z",
     "shell.execute_reply": "2025-05-02T04:37:51.671863Z"
    },
    "papermill": {
     "duration": 15.321923,
     "end_time": "2025-05-02T04:37:51.673809",
     "exception": false,
     "start_time": "2025-05-02T04:37:36.351886",
     "status": "completed"
    },
    "tags": []
   },
   "outputs": [
    {
     "name": "stderr",
     "output_type": "stream",
     "text": [
      "2025-05-02 04:37:38.252551: E external/local_xla/xla/stream_executor/cuda/cuda_fft.cc:477] Unable to register cuFFT factory: Attempting to register factory for plugin cuFFT when one has already been registered\n",
      "WARNING: All log messages before absl::InitializeLog() is called are written to STDERR\n",
      "E0000 00:00:1746160658.495651      19 cuda_dnn.cc:8310] Unable to register cuDNN factory: Attempting to register factory for plugin cuDNN when one has already been registered\n",
      "E0000 00:00:1746160658.560241      19 cuda_blas.cc:1418] Unable to register cuBLAS factory: Attempting to register factory for plugin cuBLAS when one has already been registered\n"
     ]
    }
   ],
   "source": [
    "import os\n",
    "import numpy as np\n",
    "import matplotlib.pyplot as plt\n",
    "from tqdm import tqdm\n",
    "\n",
    "os.environ['TF_CPP_MIN_LOG_LEVEL'] = '2'\n",
    "\n",
    "import tensorflow as tf\n",
    "from tensorflow.keras import layers, Sequential\n",
    "from tensorflow.keras.datasets import mnist\n",
    "from tensorflow.keras.optimizers import Adam\n",
    "\n",
    "from tensorflow.keras import mixed_precision\n",
    "mixed_precision.set_global_policy('mixed_float16')"
   ]
  },
  {
   "cell_type": "markdown",
   "id": "14ff5edd",
   "metadata": {
    "papermill": {
     "duration": 0.002376,
     "end_time": "2025-05-02T04:37:51.679001",
     "exception": false,
     "start_time": "2025-05-02T04:37:51.676625",
     "status": "completed"
    },
    "tags": []
   },
   "source": [
    "# VISUALIZATION "
   ]
  },
  {
   "cell_type": "code",
   "execution_count": 2,
   "id": "bc139460",
   "metadata": {
    "execution": {
     "iopub.execute_input": "2025-05-02T04:37:51.684676Z",
     "iopub.status.busy": "2025-05-02T04:37:51.684259Z",
     "iopub.status.idle": "2025-05-02T04:37:51.690949Z",
     "shell.execute_reply": "2025-05-02T04:37:51.690250Z"
    },
    "papermill": {
     "duration": 0.010766,
     "end_time": "2025-05-02T04:37:51.692161",
     "exception": false,
     "start_time": "2025-05-02T04:37:51.681395",
     "status": "completed"
    },
    "tags": []
   },
   "outputs": [],
   "source": [
    "def show_images(images, n_rows=2, n_cols=5, figsize=(10,4), title=None):\n",
    "    \"\"\"Display a grid of grayscale images.\"\"\"\n",
    "    fig, axes = plt.subplots(n_rows, n_cols, figsize=figsize)\n",
    "    for i, ax in enumerate(axes.flat):\n",
    "        ax.imshow(images[i, :, :, 0], cmap='gray')\n",
    "        ax.axis('off')\n",
    "    if title:\n",
    "        fig.suptitle(title, fontsize=14)\n",
    "    plt.tight_layout()\n",
    "    plt.show()\n",
    "\n",
    "class GANMonitor(tf.keras.callbacks.Callback):\n",
    "    \"\"\"Keras callback to generate and display images every N epochs.\"\"\"\n",
    "    def __init__(self, num_images=10, latent_dim=100, interval=500):\n",
    "        self.num_images, self.latent_dim, self.interval = num_images, latent_dim, interval\n",
    "\n",
    "    def on_epoch_end(self, epoch, logs=None):\n",
    "        if (epoch+1) % self.interval == 0:\n",
    "            z = np.random.normal(size=(self.num_images, self.latent_dim))\n",
    "            gen_imgs = self.model.generator.predict(z)\n",
    "            gen_imgs = 0.5 * gen_imgs + 0.5\n",
    "            show_images(gen_imgs, title=f\"Epoch {epoch+1}: Generated Samples\")"
   ]
  },
  {
   "cell_type": "code",
   "execution_count": 3,
   "id": "27ba193e",
   "metadata": {
    "execution": {
     "iopub.execute_input": "2025-05-02T04:37:51.697506Z",
     "iopub.status.busy": "2025-05-02T04:37:51.697292Z",
     "iopub.status.idle": "2025-05-02T04:37:51.701346Z",
     "shell.execute_reply": "2025-05-02T04:37:51.700787Z"
    },
    "papermill": {
     "duration": 0.007986,
     "end_time": "2025-05-02T04:37:51.702442",
     "exception": false,
     "start_time": "2025-05-02T04:37:51.694456",
     "status": "completed"
    },
    "tags": []
   },
   "outputs": [],
   "source": [
    "import os\n",
    "import numpy as np\n",
    "import matplotlib.pyplot as plt\n",
    "from tqdm import tqdm\n",
    "\n",
    "# Set the logging level before importing TensorFlow to avoid extra messages\n",
    "os.environ['TF_CPP_MIN_LOG_LEVEL'] = '2'\n",
    "\n",
    "import tensorflow as tf\n",
    "from tensorflow.keras import layers, Sequential\n",
    "from tensorflow.keras.datasets import mnist\n",
    "from tensorflow.keras.optimizers import Adam\n",
    "\n",
    "# Enable mixed precision for improved performance\n",
    "from tensorflow.keras import mixed_precision\n",
    "mixed_precision.set_global_policy('mixed_float16')\n"
   ]
  },
  {
   "cell_type": "markdown",
   "id": "ba95c0cb",
   "metadata": {
    "papermill": {
     "duration": 0.00324,
     "end_time": "2025-05-02T04:37:51.708004",
     "exception": false,
     "start_time": "2025-05-02T04:37:51.704764",
     "status": "completed"
    },
    "tags": []
   },
   "source": [
    "# Utilities & Gradient Penalty"
   ]
  },
  {
   "cell_type": "code",
   "execution_count": 4,
   "id": "7ea29f80",
   "metadata": {
    "execution": {
     "iopub.execute_input": "2025-05-02T04:37:51.713255Z",
     "iopub.status.busy": "2025-05-02T04:37:51.713024Z",
     "iopub.status.idle": "2025-05-02T04:37:51.718554Z",
     "shell.execute_reply": "2025-05-02T04:37:51.718040Z"
    },
    "papermill": {
     "duration": 0.009281,
     "end_time": "2025-05-02T04:37:51.719528",
     "exception": false,
     "start_time": "2025-05-02T04:37:51.710247",
     "status": "completed"
    },
    "tags": []
   },
   "outputs": [],
   "source": [
    "def show_images(images, n_rows=2, n_cols=5, figsize=(10,4), title=None):\n",
    "    fig, axes = plt.subplots(n_rows, n_cols, figsize=figsize)\n",
    "    for i, ax in enumerate(axes.flat):\n",
    "        ax.imshow(images[i, :, :, 0], cmap='gray')\n",
    "        ax.axis('off')\n",
    "    if title:\n",
    "        fig.suptitle(title, fontsize=16)\n",
    "    plt.tight_layout()\n",
    "    plt.show()\n",
    "\n",
    "# Gradient Penalty for WGAN-GP\n",
    "def gradient_penalty(discriminator, real, fake):\n",
    "    alpha = tf.random.uniform([real.shape[0], 1, 1, 1], 0., 1.)\n",
    "    interp = real + alpha * (fake - real)\n",
    "    with tf.GradientTape() as gp_tape:\n",
    "        gp_tape.watch(interp)\n",
    "        pred = discriminator(interp, training=True)\n",
    "    grads = gp_tape.gradient(pred, interp)\n",
    "    norm = tf.sqrt(tf.reduce_sum(tf.square(grads), axis=[1,2,3]))\n",
    "    return tf.reduce_mean((norm - 1.0) ** 2)"
   ]
  },
  {
   "cell_type": "code",
   "execution_count": 5,
   "id": "112c7c49",
   "metadata": {
    "execution": {
     "iopub.execute_input": "2025-05-02T04:37:51.724890Z",
     "iopub.status.busy": "2025-05-02T04:37:51.724679Z",
     "iopub.status.idle": "2025-05-02T04:37:51.729129Z",
     "shell.execute_reply": "2025-05-02T04:37:51.728552Z"
    },
    "papermill": {
     "duration": 0.00844,
     "end_time": "2025-05-02T04:37:51.730199",
     "exception": false,
     "start_time": "2025-05-02T04:37:51.721759",
     "status": "completed"
    },
    "tags": []
   },
   "outputs": [],
   "source": [
    "class MNISTLoader:\n",
    "    def __init__(self):\n",
    "        (x_train, _), _ = mnist.load_data()\n",
    "        x_train = np.expand_dims(x_train, -1).astype('float32')\n",
    "        self.data = (x_train - 127.5) / 127.5\n",
    "        print(f\"Loaded {self.data.shape[0]} images: {self.data.shape[1:]}.\")\n",
    "        \n",
    "    def get_batch(self, batch_size):\n",
    "        idx = np.random.randint(0, self.data.shape[0], batch_size)\n",
    "        return self.data[idx]"
   ]
  },
  {
   "cell_type": "markdown",
   "id": "2d2d135b",
   "metadata": {
    "papermill": {
     "duration": 0.002121,
     "end_time": "2025-05-02T04:37:51.734696",
     "exception": false,
     "start_time": "2025-05-02T04:37:51.732575",
     "status": "completed"
    },
    "tags": []
   },
   "source": [
    "# MODEL ARCHITECTURES "
   ]
  },
  {
   "cell_type": "code",
   "execution_count": 6,
   "id": "b40a624d",
   "metadata": {
    "execution": {
     "iopub.execute_input": "2025-05-02T04:37:51.739830Z",
     "iopub.status.busy": "2025-05-02T04:37:51.739631Z",
     "iopub.status.idle": "2025-05-02T04:37:51.747743Z",
     "shell.execute_reply": "2025-05-02T04:37:51.747231Z"
    },
    "papermill": {
     "duration": 0.011836,
     "end_time": "2025-05-02T04:37:51.748737",
     "exception": false,
     "start_time": "2025-05-02T04:37:51.736901",
     "status": "completed"
    },
    "tags": []
   },
   "outputs": [],
   "source": [
    "def conv_block(filters, kernel_size=4, strides=2, activation=True):\n",
    "    block = Sequential()\n",
    "    block.add(layers.Conv2D(filters, kernel_size, strides=strides, padding='same'))\n",
    "    if activation:\n",
    "        block.add(layers.LeakyReLU(0.2))\n",
    "    block.add(layers.Dropout(0.3))\n",
    "    return block\n",
    "\n",
    "def deconv_block(filters, kernel_size=4, strides=2):\n",
    "    block = Sequential()\n",
    "    block.add(layers.Conv2DTranspose(filters, kernel_size, strides=strides, padding='same'))\n",
    "    block.add(layers.BatchNormalization())\n",
    "    block.add(layers.ReLU())\n",
    "    return block\n",
    "\n",
    "class Generator(Sequential):\n",
    "    def __init__(self, z_dim=100):\n",
    "        super().__init__(name='Generator')\n",
    "        self.add(layers.Dense(7*7*256, input_dim=z_dim))\n",
    "        self.add(layers.Reshape((7,7,256)))\n",
    "        for f in [256, 128, 64]:\n",
    "            self.add(deconv_block(f))\n",
    "        self.add(layers.Conv2D(1, 7, padding='same', activation='tanh', dtype='float32'))\n",
    "\n",
    "class Generator(Sequential):\n",
    "    def __init__(self, z_dim=100):\n",
    "        super().__init__(name='Generator')\n",
    "        self.add(layers.InputLayer(shape=(z_dim,)))\n",
    "        self.add(layers.Dense(7 * 7 * 256))\n",
    "        self.add(layers.Reshape((7, 7, 256)))\n",
    "        for f in [256, 128]:\n",
    "            self.add(deconv_block(f))\n",
    "        self.add(layers.Conv2D(1, 7, padding='same', activation='tanh', dtype='float32'))\n",
    "\n",
    "class Discriminator(Sequential):\n",
    "    def __init__(self):\n",
    "        super().__init__(name='Discriminator')\n",
    "        self.add(layers.InputLayer(shape=(28, 28, 1)))\n",
    "        self.add(conv_block(64))\n",
    "        self.add(conv_block(128))\n",
    "        self.add(conv_block(256))\n",
    "        self.add(layers.Flatten())\n",
    "        self.add(layers.Dense(1, dtype='float32'))"
   ]
  },
  {
   "cell_type": "markdown",
   "id": "2145aac7",
   "metadata": {
    "papermill": {
     "duration": 0.002366,
     "end_time": "2025-05-02T04:37:51.753468",
     "exception": false,
     "start_time": "2025-05-02T04:37:51.751102",
     "status": "completed"
    },
    "tags": []
   },
   "source": [
    "# WGAN-GP Trainer"
   ]
  },
  {
   "cell_type": "code",
   "execution_count": 7,
   "id": "9e359f6a",
   "metadata": {
    "execution": {
     "iopub.execute_input": "2025-05-02T04:37:51.758855Z",
     "iopub.status.busy": "2025-05-02T04:37:51.758571Z",
     "iopub.status.idle": "2025-05-02T04:37:51.766376Z",
     "shell.execute_reply": "2025-05-02T04:37:51.765706Z"
    },
    "papermill": {
     "duration": 0.011646,
     "end_time": "2025-05-02T04:37:51.767378",
     "exception": false,
     "start_time": "2025-05-02T04:37:51.755732",
     "status": "completed"
    },
    "tags": []
   },
   "outputs": [],
   "source": [
    "class WGAN_GP:\n",
    "    def __init__(self, gen, disc, latent_dim, gp_weight=10.):\n",
    "        self.generator = gen\n",
    "        self.discriminator = disc\n",
    "        self.latent_dim = latent_dim\n",
    "        self.gp_weight = gp_weight\n",
    "        self.gen_opt = Adam(1e-4, beta_1=0.0, beta_2=0.9)\n",
    "        self.disc_opt = Adam(1e-4, beta_1=0.0, beta_2=0.9)\n",
    "    \n",
    "    @tf.function\n",
    "    def train_step(self, real):\n",
    "        bs = tf.shape(real)[0]\n",
    "        # Discriminator updates\n",
    "        for _ in range(5):\n",
    "            noise = tf.random.normal([bs, self.latent_dim])\n",
    "            with tf.GradientTape() as tape:\n",
    "                fake = self.generator(noise, training=True)\n",
    "                real_logits = self.discriminator(real, training=True)\n",
    "                fake_logits = self.discriminator(fake, training=True)\n",
    "                gp = gradient_penalty(self.discriminator, real, fake)\n",
    "                d_loss = tf.reduce_mean(fake_logits) - tf.reduce_mean(real_logits) + self.gp_weight * gp\n",
    "            grads = tape.gradient(d_loss, self.discriminator.trainable_variables)\n",
    "            self.disc_opt.apply_gradients(zip(grads, self.discriminator.trainable_variables))\n",
    "        # Generator update\n",
    "        noise = tf.random.normal([bs, self.latent_dim])\n",
    "        with tf.GradientTape() as tape:\n",
    "            fake = self.generator(noise, training=True)\n",
    "            fake_logits = self.discriminator(fake, training=True)\n",
    "            g_loss = -tf.reduce_mean(fake_logits)\n",
    "        grads = tape.gradient(g_loss, self.generator.trainable_variables)\n",
    "        self.gen_opt.apply_gradients(zip(grads, self.generator.trainable_variables))\n",
    "        return d_loss, g_loss\n",
    "    \n",
    "    def fit(self, loader, epochs=100, batch_size=64):\n",
    "        d_losses, g_losses = [], []\n",
    "        for _ in range(epochs):\n",
    "            real = loader.get_batch(batch_size)\n",
    "            d_loss, g_loss = self.train_step(real)\n",
    "            d_losses.append(d_loss.numpy())\n",
    "            g_losses.append(g_loss.numpy())\n",
    "        return d_losses, g_losses"
   ]
  },
  {
   "cell_type": "markdown",
   "id": "75edd4fe",
   "metadata": {
    "papermill": {
     "duration": 0.002359,
     "end_time": "2025-05-02T04:37:51.772076",
     "exception": false,
     "start_time": "2025-05-02T04:37:51.769717",
     "status": "completed"
    },
    "tags": []
   },
   "source": [
    "# Execution & Final Plots"
   ]
  },
  {
   "cell_type": "code",
   "execution_count": 8,
   "id": "9a8e417a",
   "metadata": {
    "execution": {
     "iopub.execute_input": "2025-05-02T04:37:51.777446Z",
     "iopub.status.busy": "2025-05-02T04:37:51.777251Z",
     "iopub.status.idle": "2025-05-02T05:05:05.962392Z",
     "shell.execute_reply": "2025-05-02T05:05:05.961560Z"
    },
    "papermill": {
     "duration": 1634.189209,
     "end_time": "2025-05-02T05:05:05.963688",
     "exception": false,
     "start_time": "2025-05-02T04:37:51.774479",
     "status": "completed"
    },
    "tags": []
   },
   "outputs": [
    {
     "name": "stdout",
     "output_type": "stream",
     "text": [
      "Downloading data from https://storage.googleapis.com/tensorflow/tf-keras-datasets/mnist.npz\n",
      "\u001b[1m11490434/11490434\u001b[0m \u001b[32m━━━━━━━━━━━━━━━━━━━━\u001b[0m\u001b[37m\u001b[0m \u001b[1m0s\u001b[0m 0us/step\n",
      "Loaded 60000 images: (28, 28, 1).\n"
     ]
    },
    {
     "name": "stderr",
     "output_type": "stream",
     "text": [
      "I0000 00:00:1746160673.686893      19 gpu_device.cc:2022] Created device /job:localhost/replica:0/task:0/device:GPU:0 with 13942 MB memory:  -> device: 0, name: Tesla T4, pci bus id: 0000:00:04.0, compute capability: 7.5\n",
      "I0000 00:00:1746160673.687539      19 gpu_device.cc:2022] Created device /job:localhost/replica:0/task:0/device:GPU:1 with 13942 MB memory:  -> device: 1, name: Tesla T4, pci bus id: 0000:00:05.0, compute capability: 7.5\n",
      "I0000 00:00:1746160692.117093      63 cuda_dnn.cc:529] Loaded cuDNN version 90300\n"
     ]
    },
    {
     "data": {
      "image/png": "[encoded data removed]",
      "text/plain": [
       "<Figure size 800x400 with 1 Axes>"
      ]
     },
     "metadata": {},
     "output_type": "display_data"
    },
    {
     "data": {
      "image/png": "[encoded data removed]",
      "text/plain": [
       "<Figure size 1000x400 with 10 Axes>"
      ]
     },
     "metadata": {},
     "output_type": "display_data"
    }
   ],
   "source": [
    "if __name__ == '__main__':\n",
    "    Z_DIM, EPOCHS, BATCH = 128, 20000, 64\n",
    "    loader = MNISTLoader()\n",
    "    gen = Generator(z_dim=Z_DIM)\n",
    "    disc = Discriminator()\n",
    "    wgan = WGAN_GP(gen, disc, latent_dim=Z_DIM)\n",
    "    \n",
    "    d_losses, g_losses = wgan.fit(loader, epochs=EPOCHS, batch_size=BATCH)\n",
    "    \n",
    "    # LOSS CURVE\n",
    "    plt.figure(figsize=(8,4))\n",
    "    plt.plot(d_losses, label='D Loss')\n",
    "    plt.plot(g_losses, label='G Loss')\n",
    "    plt.title('WGAN-GP Loss Over Training')\n",
    "    plt.xlabel('Step')\n",
    "    plt.ylabel('Loss')\n",
    "    plt.legend()\n",
    "    plt.show()\n",
    "    \n",
    "    # FINAL SAMPLES\n",
    "    noise = tf.random.normal([10, Z_DIM])\n",
    "    samples = wgan.generator(noise, training=False)\n",
    "    samples = (samples + 1.) * 127.5\n",
    "    show_images(samples.numpy().astype('uint8'), title=\"WGAN-GP Final MNIST Samples\")"
   ]
  }
 ],
 "metadata": {
  "kaggle": {
   "accelerator": "nvidiaTeslaT4",
   "dataSources": [
    {
     "datasetId": 3147,
     "sourceId": 5196,
     "sourceType": "datasetVersion"
    },
    {
     "datasetId": 27352,
     "sourceId": 34877,
     "sourceType": "datasetVersion"
    },
    {
     "datasetId": 42853,
     "sourceId": 76002,
     "sourceType": "datasetVersion"
    },
    {
     "datasetId": 102285,
     "sourceId": 242592,
     "sourceType": "datasetVersion"
    }
   ],
   "dockerImageVersionId": 31011,
   "isGpuEnabled": true,
   "isInternetEnabled": true,
   "language": "python",
   "sourceType": "notebook"
  },
  "kernelspec": {
   "display_name": "Python 3",
   "language": "python",
   "name": "python3"
  },
  "language_info": {
   "codemirror_mode": {
    "name": "ipython",
    "version": 3
   },
   "file_extension": ".py",
   "mimetype": "text/x-python",
   "name": "python",
   "nbconvert_exporter": "python",
   "pygments_lexer": "ipython3",
   "version": "3.11.11"
  },
  "papermill": {
   "default_parameters": {},
   "duration": 1656.986228,
   "end_time": "2025-05-02T05:05:08.825071",
   "environment_variables": {},
   "exception": null,
   "input_path": "__notebook__.ipynb",
   "output_path": "__notebook__.ipynb",
   "parameters": {},
   "start_time": "2025-05-02T04:37:31.838843",
   "version": "2.6.0"
  }
 },
 "nbformat": 4,
 "nbformat_minor": 5
}
